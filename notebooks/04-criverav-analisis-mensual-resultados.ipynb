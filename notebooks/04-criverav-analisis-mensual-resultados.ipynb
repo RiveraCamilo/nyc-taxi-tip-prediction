{
 "cells": [
  {
   "cell_type": "markdown",
   "id": "2d89f49d",
   "metadata": {},
   "source": [
    "## Análisis del rendimiento mensual del modelo\n",
    "\n",
    "Este notebook consolida los resultados de evaluación del modelo entrenado en enero de 2020, aplicándolo sobre datos de distintos meses (enero y febrero). Se reportan métricas clave como F1-score, y se analizan posibles causas de variación en el desempeño del modelo en el tiempo.\n"
   ]
  },
  {
   "cell_type": "code",
   "execution_count": 1,
   "id": "0506d733",
   "metadata": {},
   "outputs": [
    {
     "data": {
      "text/html": [
       "<div>\n",
       "<style scoped>\n",
       "    .dataframe tbody tr th:only-of-type {\n",
       "        vertical-align: middle;\n",
       "    }\n",
       "\n",
       "    .dataframe tbody tr th {\n",
       "        vertical-align: top;\n",
       "    }\n",
       "\n",
       "    .dataframe thead th {\n",
       "        text-align: right;\n",
       "    }\n",
       "</style>\n",
       "<table border=\"1\" class=\"dataframe\">\n",
       "  <thead>\n",
       "    <tr style=\"text-align: right;\">\n",
       "      <th></th>\n",
       "      <th>mes</th>\n",
       "      <th>f1_score</th>\n",
       "      <th>ejemplos</th>\n",
       "    </tr>\n",
       "  </thead>\n",
       "  <tbody>\n",
       "    <tr>\n",
       "      <th>0</th>\n",
       "      <td>enero</td>\n",
       "      <td>0.5753</td>\n",
       "      <td>19904</td>\n",
       "    </tr>\n",
       "    <tr>\n",
       "      <th>1</th>\n",
       "      <td>febrero</td>\n",
       "      <td>0.4934</td>\n",
       "      <td>100000</td>\n",
       "    </tr>\n",
       "  </tbody>\n",
       "</table>\n",
       "</div>"
      ],
      "text/plain": [
       "       mes  f1_score  ejemplos\n",
       "0    enero    0.5753     19904\n",
       "1  febrero    0.4934    100000"
      ]
     },
     "execution_count": 1,
     "metadata": {},
     "output_type": "execute_result"
    }
   ],
   "source": [
    "import pandas as pd\n",
    "\n",
    "# Tabla con resultados por mes\n",
    "df_resultados = pd.DataFrame({\n",
    "    \"mes\": [\"enero\", \"febrero\"],\n",
    "    \"f1_score\": [0.5753, 0.4934],\n",
    "    \"ejemplos\": [19904, 100000]\n",
    "})\n",
    "\n",
    "df_resultados\n"
   ]
  },
  {
   "cell_type": "code",
   "execution_count": 4,
   "id": "0d623c55",
   "metadata": {},
   "outputs": [
    {
     "data": {
      "image/png": "[encoded data removed]",
      "text/plain": [
       "<Figure size 640x480 with 1 Axes>"
      ]
     },
     "metadata": {},
     "output_type": "display_data"
    }
   ],
   "source": [
    "import matplotlib.pyplot as plt\n",
    "import seaborn as sns\n",
    "\n",
    "sns.barplot(data=df_resultados, x=\"mes\", y=\"f1_score\")\n",
    "plt.title(\"F1-score del modelo entrenado en enero\\nEvaluado en enero y febrero\")\n",
    "plt.ylabel(\"F1-score\")\n",
    "plt.xlabel(\"Mes\")\n",
    "plt.ylim(0, 0.8)\n",
    "plt.show()\n",
    "\n"
   ]
  },
  {
   "cell_type": "markdown",
   "id": "04d8ff3f",
   "metadata": {},
   "source": [
    "## Conclusiones\n",
    "\n",
    "\n",
    "- El modelo entrenado en enero obtuvo un **F1-score de 0.5753** al evaluarse en el mismo mes.\n",
    "- Al evaluarse sobre febrero, el desempeño cayó a **0.4934**, lo que representa una degradación significativa.\n",
    "\n",
    "### Posibles causas\n",
    "\n",
    "- **Cambio en la distribución de variables** como distancia, horario o duración del viaje.\n",
    "- **Factores externos temporales** como clima, eventos o comportamiento estacional de los pasajeros.\n",
    "- **Modelo poco robusto temporalmente**, al estar entrenado en un solo mes.\n",
    "\n",
    "### Recomendaciones\n",
    "\n",
    "- Entrenar el modelo con **datos de varios meses** para mejorar su capacidad de generalización.\n",
    "- Aplicar **validación cruzada temporal** (ej. train en enero-febrero, test en marzo).\n",
    "- Investigar si algunas variables son más sensibles en cada mes y podrían requerir ajustes dinámicos.\n",
    "\n"
   ]
  }
 ],
 "metadata": {
  "kernelspec": {
   "display_name": ".venv",
   "language": "python",
   "name": "python3"
  },
  "language_info": {
   "codemirror_mode": {
    "name": "ipython",
    "version": 3
   },
   "file_extension": ".py",
   "mimetype": "text/x-python",
   "name": "python",
   "nbconvert_exporter": "python",
   "pygments_lexer": "ipython3",
   "version": "3.11.9"
  }
 },
 "nbformat": 4,
 "nbformat_minor": 5
}
