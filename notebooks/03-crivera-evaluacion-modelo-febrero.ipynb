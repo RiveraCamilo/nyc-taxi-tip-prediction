{
 "cells": [
  {
   "cell_type": "markdown",
   "id": "21fddf9b",
   "metadata": {},
   "source": [
    "## Evaluación del modelo entrenado en enero sobre datos de febrero\n",
    "\n",
    "Este notebook carga el modelo entrenado previamente y evalúa su rendimiento sobre los datos de febrero de 2020, replicando el ejemplo de predicción usado en el notebook original.\n"
   ]
  },
  {
   "cell_type": "code",
   "execution_count": null,
   "id": "ffce0e92",
   "metadata": {},
   "outputs": [],
   "source": [
    "import pandas as pd\n",
    "import joblib\n",
    "from sklearn.metrics import f1_score\n",
    "\n",
    "import sys\n",
    "import os\n",
    "sys.path.append(os.path.abspath(\"..\"))\n",
    "\n",
    "from src.features.build_features import preprocess, get_feature_names\n"
   ]
  },
  {
   "cell_type": "code",
   "execution_count": 12,
   "id": "65f915cf",
   "metadata": {},
   "outputs": [],
   "source": [
    "# Parametros\n",
    "PROJECT_ROOT = os.path.abspath(\"..\")\n",
    "target_col = \"high_tip\"\n",
    "features = get_feature_names()\n",
    "MODEL_PATH = os.path.join(PROJECT_ROOT, \"models\", \"model_jan.pkl\")\n"
   ]
  },
  {
   "cell_type": "code",
   "execution_count": 13,
   "id": "21b709b9",
   "metadata": {},
   "outputs": [],
   "source": [
    "# Carga y preprocesamiento febrero\n",
    "\n",
    "# Cargar datos desde el enlace original\n",
    "taxi_feb = pd.read_parquet('https://d37ci6vzurychx.cloudfront.net/trip-data/yellow_tripdata_2020-02.parquet')\n",
    "taxi_feb = taxi_feb.head(100_000)  # muestra de prueba\n",
    "\n",
    "# Aplicar mismo preprocesamiento\n",
    "taxi_test = preprocess(taxi_feb, target_col=target_col)\n"
   ]
  },
  {
   "cell_type": "code",
   "execution_count": null,
   "id": "802692ae",
   "metadata": {},
   "outputs": [],
   "source": [
    "loaded_model = joblib.load(MODEL_PATH)"
   ]
  },
  {
   "cell_type": "code",
   "execution_count": 15,
   "id": "622c4ae5",
   "metadata": {},
   "outputs": [
    {
     "name": "stdout",
     "output_type": "stream",
     "text": [
      "F1-score en febrero: 0.4934\n"
     ]
    }
   ],
   "source": [
    "# Predicciones como probabilidades\n",
    "preds_proba = loaded_model.predict_proba(taxi_test[features])\n",
    "\n",
    "# Convertir probabilidades a etiquetas (clasificación binaria)\n",
    "preds_labels = [p[1] for p in preds_proba.round()]\n",
    "\n",
    "# Calcular F1-score\n",
    "score = f1_score(taxi_test[target_col], preds_labels)\n",
    "print(f\"F1-score en febrero: {score:.4f}\")\n"
   ]
  },
  {
   "cell_type": "markdown",
   "id": "41139b56",
   "metadata": {},
   "source": [
    "## Evaluación del modelo entrenado en enero sobre febrero\n",
    "\n",
    "El modelo entrenado exclusivamente con datos de enero 2020 fue evaluado sobre un subconjunto de los viajes de febrero 2020, obteniendo un **F1-score de 0.4934**.\n",
    "\n",
    "### Interpretación del resultado\n",
    "\n",
    "Este valor indica un rendimiento **moderado**, lo que sugiere que el modelo no generaliza perfectamente a los datos de un mes distinto. Esta diferencia de desempeño puede atribuirse a varias causas:\n",
    "\n",
    "- **Cambio en el comportamiento de los pasajeros** (por ejemplo, menor propensión a dejar propina en febrero).\n",
    "- **Variación en patrones de viaje** como distancia, hora de viaje o duración, que afectan la predicción.\n",
    "- **Eventos externos** como clima, restricciones, o turismo estacional.\n",
    "\n",
    "### Conclusiones preliminares\n",
    "\n",
    "- El modelo muestra **sensibilidad temporal**, lo que valida la necesidad de analizar el rendimiento **mes a mes**.\n",
    "- Para mejorar la robustez, podría considerarse:\n",
    "  - Entrenar con múltiples meses de datos.\n",
    "  - Hacer validación cruzada temporal (ej. enero como train, febrero como test, marzo como valid).\n",
    "  - Analizar posibles cambios en la distribución de variables entre meses.\n",
    "\n"
   ]
  }
 ],
 "metadata": {
  "kernelspec": {
   "display_name": ".venv",
   "language": "python",
   "name": "python3"
  },
  "language_info": {
   "codemirror_mode": {
    "name": "ipython",
    "version": 3
   },
   "file_extension": ".py",
   "mimetype": "text/x-python",
   "name": "python",
   "nbconvert_exporter": "python",
   "pygments_lexer": "ipython3",
   "version": "3.11.9"
  }
 },
 "nbformat": 4,
 "nbformat_minor": 5
}
